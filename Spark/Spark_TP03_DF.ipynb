{
 "cells": [
  {
   "cell_type": "markdown",
   "metadata": {},
   "source": [
    "# Use case with Spark"
   ]
  },
  {
   "cell_type": "markdown",
   "metadata": {},
   "source": [
    "## Prerequisite"
   ]
  },
  {
   "cell_type": "markdown",
   "metadata": {},
   "source": [
    "Start your HDFS cluster :"
   ]
  },
  {
   "cell_type": "raw",
   "metadata": {},
   "source": [
    "docker start namenode datanode1 datanode2"
   ]
  },
  {
   "cell_type": "markdown",
   "metadata": {},
   "source": [
    "Start your Spark cluster :"
   ]
  },
  {
   "cell_type": "raw",
   "metadata": {},
   "source": [
    "docker start smaster sworker1 sworker2"
   ]
  },
  {
   "cell_type": "markdown",
   "metadata": {},
   "source": [
    "Check all the following containers are up :\n",
    "\n",
    "smaster, sworker1, sworker2 \n"
   ]
  },
  {
   "cell_type": "raw",
   "metadata": {},
   "source": [
    "docker ps"
   ]
  },
  {
   "cell_type": "markdown",
   "metadata": {},
   "source": [
    "### Data download"
   ]
  },
  {
   "cell_type": "markdown",
   "metadata": {},
   "source": [
    "This practice is based on a dataset from data.gouv.fr which you uploaded into hdfs while you studied HDFS.\n",
    "\n",
    "If you don't, please run the following cell :\n"
   ]
  },
  {
   "cell_type": "code",
   "execution_count": null,
   "metadata": {},
   "outputs": [],
   "source": [
    "!$HADOOP_HOME/bin/hdfs dfs -mkdir /data/permanent/rawdata/trade/\n",
    "!$HADOOP_HOME/bin/hdfs dfs -put /home/jovyan/data/2021-mutations-immobilieres.csv /data/permanent/rawdata/trade/"
   ]
  },
  {
   "cell_type": "markdown",
   "metadata": {},
   "source": [
    "The dataset represents all France real estate transfer in 2021."
   ]
  },
  {
   "cell_type": "markdown",
   "metadata": {},
   "source": [
    "Here is the description of each column : \n",
    "\n",
    "```\n",
    "id_mutation : Identifiant de mutation (non stable, sert à grouper les lignes)\n",
    "date_mutation : Date de la mutation au format ISO-8601 (YYYY-MM-DD)\n",
    "numero_disposition : Numéro de disposition\n",
    "nature_mutation : Nature de la mutation\n",
    "valeur_fonciere : Valeur foncière (séparateur décimal = point)\n",
    "adresse_numero : Numéro de l'adresse\n",
    "adresse_suffixe : Suffixe du numéro de l'adresse (B, T, Q)\n",
    "adresse_code_voie : Code FANTOIR de la voie (4 caractères)\n",
    "adresse_nom_voie : Nom de la voie de l'adresse\n",
    "code_postal : Code postal (5 caractères)\n",
    "code_commune : Code commune INSEE (5 caractères)\n",
    "nom_commune : Nom de la commune (accentué)\n",
    "ancien_code_commune : Ancien code commune INSEE (si différent lors de la mutation)\n",
    "ancien_nom_commune : Ancien nom de la commune (si différent lors de la mutation)\n",
    "code_departement : Code département INSEE (2 ou 3 caractères)\n",
    "id_parcelle : Identifiant de parcelle (14 caractères)\n",
    "ancien_id_parcelle : Ancien identifiant de parcelle (si différent lors de la mutation)\n",
    "numero_volume : Numéro de volume\n",
    "lot_1_numero : Numéro du lot 1\n",
    "lot_1_surface_carrez : Surface Carrez du lot 1\n",
    "lot_2_numero : Numéro du lot 2\n",
    "lot_2_surface_carrez : Surface Carrez du lot 2\n",
    "lot_3_numero : Numéro du lot 3\n",
    "lot_3_surface_carrez : Surface Carrez du lot 3\n",
    "lot_4_numero : Numéro du lot 4\n",
    "lot_4_surface_carrez : Surface Carrez du lot 4\n",
    "lot_5_numero : Numéro du lot 5\n",
    "lot_5_surface_carrez : Surface Carrez du lot 5\n",
    "nombre_lots : Nombre de lots\n",
    "code_type_local : Code de type de local\n",
    "type_local : Libellé du type de local\n",
    "surface_reelle_bati : Surface réelle du bâti\n",
    "nombre_pieces_principales : Nombre de pièces principales\n",
    "code_nature_culture : Code de nature de culture\n",
    "nature_culture : Libellé de nature de culture\n",
    "code_nature_culture_speciale : Code de nature de culture spéciale\n",
    "nature_culture_speciale : Libellé de nature de culture spéciale\n",
    "surface_terrain : Surface du terrain\n",
    "longitude : Longitude du centre de la parcelle concernée (WGS-84)\n",
    "latitude : Latitude du centre de la parcelle concernée (WGS-84)    \n",
    "```"
   ]
  },
  {
   "cell_type": "markdown",
   "metadata": {},
   "source": [
    "You are now ready to analyze data.\n",
    "\n",
    "Note that the following documentation may be a great help to assist you in this homework.\n",
    "\n",
    "https://sparkbyexamples.com/pyspark-tutorial/\n"
   ]
  },
  {
   "cell_type": "markdown",
   "metadata": {},
   "source": [
    "## 1 - Dataframe"
   ]
  },
  {
   "cell_type": "markdown",
   "metadata": {},
   "source": [
    "Open a connection to your Spark cluster :"
   ]
  },
  {
   "cell_type": "code",
   "execution_count": null,
   "metadata": {},
   "outputs": [],
   "source": [
    "# N'oubliez pas de fermer la connexion à la fin du TP\n",
    "# spark.stop()\n",
    "from pyspark.sql import SparkSession\n",
    "spark = SparkSession.builder.master(\"spark://smaster:7077\").appName(\"TPDF02\").getOrCreate()"
   ]
  },
  {
   "cell_type": "markdown",
   "metadata": {},
   "source": [
    "Check your connection :"
   ]
  },
  {
   "cell_type": "code",
   "execution_count": null,
   "metadata": {},
   "outputs": [],
   "source": [
    "spark"
   ]
  },
  {
   "cell_type": "markdown",
   "metadata": {},
   "source": [
    "<font color='red'>Q1 - Open and infer the dataset into the mutationsDF dataframe ?\n",
    "    \n",
    "Note that the dataset schema should be automatically included into the dataframe.  \n",
    "The dataset is compressed under the format .gz, don't worry about that Spark is able to read like a simple a csv file.\n",
    "</font>"
   ]
  },
  {
   "cell_type": "code",
   "execution_count": null,
   "metadata": {},
   "outputs": [],
   "source": [
    "#Insert your code here"
   ]
  },
  {
   "cell_type": "markdown",
   "metadata": {},
   "source": [
    "<font color='red'>Q2 - Display the data schema of mutationsDF dataframe ?  \n",
    "</font>"
   ]
  },
  {
   "cell_type": "code",
   "execution_count": null,
   "metadata": {},
   "outputs": [],
   "source": [
    "#Insert your code here"
   ]
  },
  {
   "cell_type": "markdown",
   "metadata": {},
   "source": [
    "<font color='red'>Q3 - Display one row of your mutationsDF dataframe :\n",
    "    </font>"
   ]
  },
  {
   "cell_type": "code",
   "execution_count": null,
   "metadata": {},
   "outputs": [],
   "source": [
    "#Insert your code here"
   ]
  },
  {
   "cell_type": "markdown",
   "metadata": {},
   "source": [
    "<font color='red'>Q7 - Create from mutationsDF dataframe a new Dataframe CleanMutationDF which matches the following constraints : \n",
    "* type_local is not null\n",
    "* type_local is 'Maison' or 'Appartement'\n",
    "* only the following attributes should be selected : id_mutation , nature_mutation, type_local , date_mutation , valeur_fonciere\n",
    "\n",
    "\n",
    "</font>"
   ]
  },
  {
   "cell_type": "code",
   "execution_count": null,
   "metadata": {
    "tags": []
   },
   "outputs": [],
   "source": [
    "#Insert your code here"
   ]
  },
  {
   "cell_type": "code",
   "execution_count": null,
   "metadata": {},
   "outputs": [],
   "source": []
  },
  {
   "cell_type": "markdown",
   "metadata": {},
   "source": [
    "<font color='red'>Q4 - Save your CleanMutationDF dataframe into a parquet file ( /dataspark/mutations-immobilieres.parquet ) ?\n",
    "</font>"
   ]
  },
  {
   "cell_type": "code",
   "execution_count": null,
   "metadata": {},
   "outputs": [],
   "source": [
    "#Insert your code here"
   ]
  },
  {
   "cell_type": "markdown",
   "metadata": {},
   "source": [
    "If you need to remove the parquet file you can run the following cell :"
   ]
  },
  {
   "cell_type": "code",
   "execution_count": null,
   "metadata": {},
   "outputs": [],
   "source": [
    "!rm -rf /dataspark/mutations-immobilieres.parquet"
   ]
  },
  {
   "cell_type": "markdown",
   "metadata": {},
   "source": [
    "<font color='red'>Q5 - Load  the parquet file ('/dataspark/mutations-immobilieres.parquet') into a mutationsPDF dataframe  ?</font>"
   ]
  },
  {
   "cell_type": "code",
   "execution_count": null,
   "metadata": {},
   "outputs": [],
   "source": [
    "#Insert your code here"
   ]
  },
  {
   "cell_type": "markdown",
   "metadata": {},
   "source": [
    "<font color='red'>Q6 - How many rows do you have in mutationsPDF ?</font>"
   ]
  },
  {
   "cell_type": "code",
   "execution_count": null,
   "metadata": {},
   "outputs": [],
   "source": [
    "#Insert your code here"
   ]
  },
  {
   "cell_type": "markdown",
   "metadata": {},
   "source": [
    "\n",
    "\n",
    "<div class=\"alert alert-block alert-info\">\n",
    " Please note that there may be several rows for the same transaction. All the rows part of a single transaction have the same identifier (i.e. the same value) in the id_mutation column. For instance, there are two rows with the value 2021-887 in the id_mutation column.\n",
    "</div>\n",
    "\n",
    "<font color='red'>Q7 - Select all rows concerning the id_mutation 2021-15481 into the singleTrDF dataframe :\n",
    "</font>\n"
   ]
  },
  {
   "cell_type": "code",
   "execution_count": null,
   "metadata": {},
   "outputs": [],
   "source": [
    "#Insert your code here\n"
   ]
  },
  {
   "cell_type": "code",
   "execution_count": null,
   "metadata": {},
   "outputs": [],
   "source": []
  },
  {
   "cell_type": "markdown",
   "metadata": {},
   "source": [
    "\n",
    "\n",
    "<font color='red'>Q8 - The singleTrDF contains 3 lines for the same transaction. How could you filtered out duplicated rows ? \n",
    "</font>"
   ]
  },
  {
   "cell_type": "code",
   "execution_count": null,
   "metadata": {},
   "outputs": [],
   "source": [
    "#Insert your code here"
   ]
  },
  {
   "cell_type": "markdown",
   "metadata": {},
   "source": [
    "<font color='red'>Q9 -  From mutationsPDF dataframe, create a new dataframe mutationDistinctPDF matching the following constraints :\n",
    "* no duplicated rows\n",
    "* selecting only nature_mutation = 'Vente'\n",
    "</font>"
   ]
  },
  {
   "cell_type": "code",
   "execution_count": null,
   "metadata": {},
   "outputs": [],
   "source": [
    "#Insert your code here"
   ]
  },
  {
   "cell_type": "code",
   "execution_count": null,
   "metadata": {},
   "outputs": [],
   "source": []
  },
  {
   "cell_type": "markdown",
   "metadata": {},
   "source": [
    "<font color='red'>Q9 -  From mutationDistinctPDF dataframe, compare the sales amount (valeur_fonciere) between 'Maison' (House) and 'Appartment' by month\n",
    "</font>\n",
    "\n",
    "\n",
    "<div class=\"alert alert-block alert-info\">\n",
    "Note that you can use the month function included into the pyspark.sql.functions to extract the month value from a date.\n",
    "</div>\n"
   ]
  },
  {
   "cell_type": "code",
   "execution_count": null,
   "metadata": {},
   "outputs": [],
   "source": [
    "from pyspark.sql.functions import month\n",
    "\n",
    "#Insert your code here\n"
   ]
  },
  {
   "cell_type": "markdown",
   "metadata": {},
   "source": [
    "<font color='red'>Q10 - Determine the month where sales amount is highest for 'Maison' and 'Appartement' ?\n",
    "</font>"
   ]
  },
  {
   "cell_type": "code",
   "execution_count": null,
   "metadata": {},
   "outputs": [],
   "source": [
    "#Insert your code here"
   ]
  },
  {
   "cell_type": "code",
   "execution_count": null,
   "metadata": {},
   "outputs": [],
   "source": []
  },
  {
   "cell_type": "markdown",
   "metadata": {},
   "source": [
    "# 3 - SQL"
   ]
  },
  {
   "cell_type": "markdown",
   "metadata": {},
   "source": [
    "In this exercise, you will handle the dataset using the SQL language.\n"
   ]
  },
  {
   "cell_type": "markdown",
   "metadata": {},
   "source": [
    "<font color='red'>Q11 - From the mutationDistinctPDF dataframe, create a view mutationSalesV ?</font>"
   ]
  },
  {
   "cell_type": "code",
   "execution_count": null,
   "metadata": {},
   "outputs": [],
   "source": [
    "#Insert your code here"
   ]
  },
  {
   "cell_type": "markdown",
   "metadata": {},
   "source": [
    "<font color='red'>Q12 -  From the mutationSalesV view, compare the sales amount (valeur_fonciere) between 'Maison' (House) and 'Appartment' by month using SQL ?\n",
    "\n",
    "</font>"
   ]
  },
  {
   "cell_type": "code",
   "execution_count": null,
   "metadata": {},
   "outputs": [],
   "source": [
    "#Insert your code here\n"
   ]
  },
  {
   "cell_type": "markdown",
   "metadata": {},
   "source": [
    "Close your Spark connection."
   ]
  },
  {
   "cell_type": "code",
   "execution_count": null,
   "metadata": {},
   "outputs": [],
   "source": [
    "spark.stop()"
   ]
  },
  {
   "cell_type": "code",
   "execution_count": null,
   "metadata": {},
   "outputs": [],
   "source": []
  }
 ],
 "metadata": {
  "kernelspec": {
   "display_name": "Python 3 (ipykernel)",
   "language": "python",
   "name": "python3"
  },
  "language_info": {
   "codemirror_mode": {
    "name": "ipython",
    "version": 3
   },
   "file_extension": ".py",
   "mimetype": "text/x-python",
   "name": "python",
   "nbconvert_exporter": "python",
   "pygments_lexer": "ipython3",
   "version": "3.7.10"
  }
 },
 "nbformat": 4,
 "nbformat_minor": 4
}
